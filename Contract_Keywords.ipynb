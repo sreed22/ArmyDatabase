{
 "cells": [
  {
   "cell_type": "markdown",
   "metadata": {},
   "source": [
    "This notebook requires that the following files are saved in the working directory:\n",
    "1) 'betasam.pdf'\n",
    "2) 'DBSSystemListCat1_2.csv'\n",
    "\n",
    "This will be altered when the code is run en masse on all contracts in the database.\n",
    "\n",
    "This script will do the following:\n",
    "1) Extract text from the contract PDF\n",
    "2) Clean the imported contract text\n",
    "3) Import keywords provided by the Army team\n",
    "4) Create a list of keywords from the imported file\n",
    "5) Scan the document for all keywords provided\n",
    "6) Produce a frequency count of keywords present\n",
    "7) Output a sorted list of keywords and their counts + plot \n",
    "\n",
    "Step 7 is a visual and an optional item to include in the GUI\n",
    "\n",
    "The necessary output is 'sorted_kw', a sorted list of keywords and their corresponding frequencies.\n"
   ]
  },
  {
   "cell_type": "markdown",
   "metadata": {},
   "source": [
    "Necessary packages:\n",
    "\n",
    "'pdfplumber' to extract text from the pdf\n",
    "'keywordprocessor' from' flashtext.keyword' to create a keyword list\n",
    "'pandas' to create a dataframe and read the csv file\n",
    "'nltk' for frequency counts and distributions"
   ]
  },
  {
   "cell_type": "code",
   "execution_count": 7,
   "metadata": {
    "scrolled": true
   },
   "outputs": [],
   "source": [
    "import pdfplumber\n",
    "from flashtext.keyword import KeywordProcessor\n",
    "import pandas as pd\n",
    "import nltk"
   ]
  },
  {
   "cell_type": "markdown",
   "metadata": {},
   "source": [
    "1) Extract text from the contract PDF\n",
    "\n",
    "Create a blank string named 'text'\n",
    "Use the pdfplumber package to open 'betasam.pdf'\n",
    "Add the text on each page of the PDF to the blank string 'text'"
   ]
  },
  {
   "cell_type": "code",
   "execution_count": 8,
   "metadata": {},
   "outputs": [],
   "source": [
    "text = ''\n",
    "\n",
    "pdf = pdfplumber.open('betasam.pdf')\n",
    "for page in pdf.pages:\n",
    "    text = text + page.extract_text()"
   ]
  },
  {
   "cell_type": "markdown",
   "metadata": {},
   "source": [
    "2) Clean the imported contract text\n",
    "\n",
    "Make all letters UPPERCASE for uniformity\n",
    "Remove the following keywords provided by Army team\n",
    "1) Red Cloud\n",
    "2) Contractors\n",
    "3) Solicitation\n"
   ]
  },
  {
   "cell_type": "code",
   "execution_count": 18,
   "metadata": {},
   "outputs": [],
   "source": [
    "text = text.upper() \n",
    "text = text.replace('RED CLOUD', '')\n",
    "text = text.replace('CONTRACTORS','')\n",
    "text = text.replace('SOLICITATION', '')\n",
    "text = text.replace('/', ' ')  \n"
   ]
  },
  {
   "cell_type": "markdown",
   "metadata": {},
   "source": [
    "3) Import keywords provided by the Army team\n",
    "\n",
    "Import 'DBSSystemListCat1_2.csv', the excel file containing all keywords provided by the Army team, into a dataframe named 'doc'\n",
    "Create a list of keywords named 'kw_list'"
   ]
  },
  {
   "cell_type": "code",
   "execution_count": 19,
   "metadata": {},
   "outputs": [],
   "source": [
    "doc = pd.read_csv('DBSSystemListCat1_2.csv')\n",
    "\n",
    "kw_list = doc['SystemList'].tolist()"
   ]
  },
  {
   "cell_type": "markdown",
   "metadata": {},
   "source": [
    "4) Create a list of keywords from the imported file\n",
    "\n",
    "Using the KeywordProcessor from the FlashText library, create a list of keywords to search with\n",
    "Search the pdf, located in string 'text', for all instances of the keywords and keyword phrases in 'kw_list'"
   ]
  },
  {
   "cell_type": "code",
   "execution_count": 20,
   "metadata": {},
   "outputs": [
    {
     "data": {
      "text/plain": [
       "True"
      ]
     },
     "execution_count": 20,
     "metadata": {},
     "output_type": "execute_result"
    }
   ],
   "source": [
    "keyword_processor = KeywordProcessor()\n",
    "keyword_processor.add_keyword(str(kw_list).strip('[]'))"
   ]
  },
  {
   "cell_type": "markdown",
   "metadata": {},
   "source": [
    "This chunk is for testing purposes as 'betasam.pdf' contains no words in the list provided"
   ]
  },
  {
   "cell_type": "code",
   "execution_count": 22,
   "metadata": {},
   "outputs": [
    {
     "data": {
      "text/plain": [
       "True"
      ]
     },
     "execution_count": 22,
     "metadata": {},
     "output_type": "execute_result"
    }
   ],
   "source": [
    "keyword_processor.add_keyword('CAD')\n",
    "keyword_processor.add_keyword('MASTERCAM MILL')\n",
    "keyword_processor.add_keyword('MASTERCAM LATHE')\n",
    "keyword_processor.add_keyword('CAM')"
   ]
  },
  {
   "cell_type": "markdown",
   "metadata": {},
   "source": [
    "5) Scan the document for all keywords provided\n",
    "\n",
    "Search the pdf, located in string 'text', for all instances of the keywords and keyword phrases in 'kw_list'\n",
    "Name the list 'keyword_found'\n",
    "Print list"
   ]
  },
  {
   "cell_type": "code",
   "execution_count": 23,
   "metadata": {},
   "outputs": [
    {
     "name": "stdout",
     "output_type": "stream",
     "text": [
      "['MASTERCAM MILL', 'MASTERCAM MILL', 'MASTERCAM LATHE', 'MASTERCAM LATHE', 'CAM', 'CAD', 'MASTERCAM MILL', 'MASTERCAM MILL', 'MASTERCAM LATHE', 'MASTERCAM LATHE', 'MASTERCAM LATHE', 'MASTERCAM MILL']\n"
     ]
    }
   ],
   "source": [
    "keyword_found = keyword_processor.extract_keywords(text)\n",
    "print(keyword_found)"
   ]
  },
  {
   "cell_type": "markdown",
   "metadata": {},
   "source": [
    "6) Produce a frequency count of keywords present\n",
    "\n",
    "Use the NLTK library to produce a frequency distribution of all keywords in 'keyword_found'\n",
    "Sort the keywords in descending order by frequency, as 'sorted_kw'\n",
    "Print 'sorted_kw'"
   ]
  },
  {
   "cell_type": "code",
   "execution_count": 24,
   "metadata": {},
   "outputs": [
    {
     "name": "stdout",
     "output_type": "stream",
     "text": [
      "[('MASTERCAM MILL', 5), ('MASTERCAM LATHE', 5), ('CAM', 1), ('CAD', 1)]\n"
     ]
    }
   ],
   "source": [
    "kw_frequency = nltk.FreqDist(keyword_found)\n",
    "sorted_kw = sorted(kw_frequency.items() , key = lambda x: x[1] ,\n",
    "                       reverse = True)\n",
    "print(sorted_kw)"
   ]
  },
  {
   "cell_type": "markdown",
   "metadata": {},
   "source": [
    "7) Output a sorted list of keywords and their counts + plot\n",
    "\n",
    "Produce a frequency distribution using the NLTK library\n",
    "Plot the frequency distribution of the Top 5 Keywords"
   ]
  },
  {
   "cell_type": "code",
   "execution_count": 25,
   "metadata": {},
   "outputs": [
    {
     "data": {
      "image/png": "[encoded data removed]",
      "text/plain": [
       "<Figure size 432x288 with 1 Axes>"
      ]
     },
     "metadata": {
      "needs_background": "light"
     },
     "output_type": "display_data"
    },
    {
     "data": {
      "text/plain": [
       "<matplotlib.axes._subplots.AxesSubplot at 0x282c07508c8>"
      ]
     },
     "execution_count": 25,
     "metadata": {},
     "output_type": "execute_result"
    }
   ],
   "source": [
    "fd = nltk.FreqDist(keyword_found)\n",
    "fd.plot(5, cumulative = False, title = 'Top 5 Keyword in PDF')\n"
   ]
  }
 ],
 "metadata": {
  "kernelspec": {
   "display_name": "Python 3",
   "language": "python",
   "name": "python3"
  },
  "language_info": {
   "codemirror_mode": {
    "name": "ipython",
    "version": 3
   },
   "file_extension": ".py",
   "mimetype": "text/x-python",
   "name": "python",
   "nbconvert_exporter": "python",
   "pygments_lexer": "ipython3",
   "version": "3.7.6"
  }
 },
 "nbformat": 4,
 "nbformat_minor": 4
}
